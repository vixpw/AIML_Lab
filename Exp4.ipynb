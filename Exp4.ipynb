{
  "nbformat": 4,
  "nbformat_minor": 0,
  "metadata": {
    "colab": {
      "provenance": [],
      "authorship_tag": "ABX9TyNc0Hy/+4xXQ1DzqbTy+awx",
      "include_colab_link": true
    },
    "kernelspec": {
      "name": "python3",
      "display_name": "Python 3"
    },
    "language_info": {
      "name": "python"
    }
  },
  "cells": [
    {
      "cell_type": "markdown",
      "metadata": {
        "id": "view-in-github",
        "colab_type": "text"
      },
      "source": [
        "<a href=\"https://colab.research.google.com/github/vixpw/AIML_Lab/blob/main/Exp4.ipynb\" target=\"_parent\"><img src=\"https://colab.research.google.com/assets/colab-badge.svg\" alt=\"Open In Colab\"/></a>"
      ]
    },
    {
      "cell_type": "code",
      "execution_count": 3,
      "metadata": {
        "colab": {
          "base_uri": "https://localhost:8080/"
        },
        "id": "peQRx_KKzycm",
        "outputId": "d114e7d1-d889-4346-eb0c-8f02458873b1"
      },
      "outputs": [
        {
          "output_type": "stream",
          "name": "stdout",
          "text": [
            "Number of rows: 25000\n",
            "Number of columns: 3\n",
            "Size of the dataset: 75000\n",
            "\n",
            "First five rows of the dataset:\n",
            "   Index   \"Height(Inches)\"   \"Weight(Pounds)\"\n",
            "0      1           65.78331           112.9925\n",
            "1      2           71.51521           136.4873\n",
            "2      3           69.39874           153.0269\n",
            "3      4           68.21660           142.3354\n",
            "4      5           67.78781           144.2971\n",
            "\n",
            "Missing Values in Each Column:\n",
            "Index                0\n",
            " \"Height(Inches)\"    0\n",
            " \"Weight(Pounds)\"    0\n",
            "dtype: int64\n",
            "\n",
            "Statistical Summary for Numerical Columns:\n",
            "            Index   \"Height(Inches)\"   \"Weight(Pounds)\"\n",
            "sum   312512500.0       1.699828e+06       3.176986e+06\n",
            "mean      12500.5       6.799311e+01       1.270794e+02\n",
            "min           1.0       6.027836e+01       7.801476e+01\n",
            "max       25000.0       7.515280e+01       1.709240e+02\n",
            "\n",
            "Processed dataset has been exported to 'processed_dataset.csv'.\n"
          ]
        }
      ],
      "source": [
        "import pandas as pd\n",
        "\n",
        "file_path = '/content/hw_25000.csv'\n",
        "df = pd.read_csv(file_path)\n",
        "\n",
        "\n",
        "print(f\"Number of rows: {df.shape[0]}\")  # Number of rows\n",
        "print(f\"Number of columns: {df.shape[1]}\")  # Number of columns\n",
        "print(f\"Size of the dataset: {df.size}\")  # Size of the dataset\n",
        "print(\"\\nFirst five rows of the dataset:\")\n",
        "print(df.head())  # Displaying the first 5 rows\n",
        "\n",
        "# 3. Calculate and display the number of missing values in each column\n",
        "missing_values = df.isnull().sum()\n",
        "print(\"\\nMissing Values in Each Column:\")\n",
        "print(missing_values)\n",
        "\n",
        "# 4. Compute and display sum, average, minimum, and maximum values for numerical columns\n",
        "numerical_stats = df.describe(include='all')  # Get descriptive statistics\n",
        "# Calculate 'sum' separately and add it to numerical_stats\n",
        "numerical_stats.loc['sum'] = df.sum(numeric_only=True) # Adding sum, ensure only numerical columns are summed\n",
        "\n",
        "# Select desired statistics\n",
        "numerical_stats = numerical_stats.loc[['sum', 'mean', 'min', 'max']]\n",
        "\n",
        "print(\"\\nStatistical Summary for Numerical Columns:\")\n",
        "print(numerical_stats)\n",
        "\n",
        "# 5. Fill missing values with the mean and export to a new CSV file\n",
        "df_filled = df.fillna(df.mean())\n",
        "df_filled.to_csv('processed_dataset.csv', index=False)\n",
        "print(\"\\nProcessed dataset has been exported to 'processed_dataset.csv'.\")"
      ]
    }
  ]
}