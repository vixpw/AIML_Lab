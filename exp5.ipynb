{
  "nbformat": 4,
  "nbformat_minor": 0,
  "metadata": {
    "colab": {
      "provenance": [],
      "authorship_tag": "ABX9TyNDfDgqtReYNXTY26ubLut5",
      "include_colab_link": true
    },
    "kernelspec": {
      "name": "python3",
      "display_name": "Python 3"
    },
    "language_info": {
      "name": "python"
    }
  },
  "cells": [
    {
      "cell_type": "markdown",
      "metadata": {
        "id": "view-in-github",
        "colab_type": "text"
      },
      "source": [
        "<a href=\"https://colab.research.google.com/github/vixpw/AIML_Lab/blob/main/exp5.ipynb\" target=\"_parent\"><img src=\"https://colab.research.google.com/assets/colab-badge.svg\" alt=\"Open In Colab\"/></a>"
      ]
    },
    {
      "cell_type": "code",
      "execution_count": 2,
      "metadata": {
        "id": "eubbX6Bv4-82",
        "colab": {
          "base_uri": "https://localhost:8080/"
        },
        "outputId": "480ff367-4f40-4429-d3eb-ff174217f674"
      },
      "outputs": [
        {
          "output_type": "stream",
          "name": "stdout",
          "text": [
            "First five rows of the dataset:\n",
            "   Index   \"Height(Inches)\"   \"Weight(Pounds)\"\n",
            "0      1           65.78331           112.9925\n",
            "1      2           71.51521           136.4873\n",
            "2      3           69.39874           153.0269\n",
            "3      4           68.21660           142.3354\n",
            "4      5           67.78781           144.2971\n",
            "\n",
            "Total number of rows and columns:\n",
            "Rows: 25000, Columns: 3\n",
            "\n",
            "Column names and data types:\n",
            "Index                  int64\n",
            " \"Height(Inches)\"    float64\n",
            " \"Weight(Pounds)\"    float64\n",
            "dtype: object\n",
            "\n",
            "Count of missing values in each column:\n",
            "Index                0\n",
            " \"Height(Inches)\"    0\n",
            " \"Weight(Pounds)\"    0\n",
            "dtype: int64\n",
            "\n",
            "Columns with null values and their percentage of missing values:\n",
            "\n",
            "Unique values in categorical columns:\n",
            "\n",
            "Statistical Summary for Numerical Columns:\n",
            "\n",
            "Column: Index\n",
            "Mean: 12500.5\n",
            "Median: 12500.5\n",
            "Mode: 1\n",
            "Standard Deviation: 7217.022700994273\n",
            "Variance: 52085416.666666664\n",
            "Minimum: 1\n",
            "Maximum: 25000\n",
            "25th Percentile: 6250.75\n",
            "50th Percentile (Median): 12500.5\n",
            "75th Percentile: 18750.25\n",
            "\n",
            "Column:  \"Height(Inches)\"\n",
            "Mean: 67.99311359679999\n",
            "Median: 67.9957\n",
            "Mode: 65.65796\n",
            "Standard Deviation: 1.901678771205604\n",
            "Variance: 3.6163821488540564\n",
            "Minimum: 60.27836\n",
            "Maximum: 75.1528\n",
            "25th Percentile: 66.7043975\n",
            "50th Percentile (Median): 67.9957\n",
            "75th Percentile: 69.2729575\n",
            "\n",
            "Column:  \"Weight(Pounds)\"\n",
            "Mean: 127.07942116080001\n",
            "Median: 127.15775\n",
            "Mode: 124.7975\n",
            "Standard Deviation: 11.660897563604287\n",
            "Variance: 135.9765319888724\n",
            "Minimum: 78.01476\n",
            "Maximum: 170.924\n",
            "25th Percentile: 119.308675\n",
            "50th Percentile (Median): 127.15775\n",
            "75th Percentile: 134.89285\n"
          ]
        }
      ],
      "source": [
        "# Import necessary libraries\n",
        "import pandas as pd\n",
        "\n",
        "# Load the dataset\n",
        "df = pd.read_csv('/content/hw_25000.csv')\n",
        "\n",
        "# Display the first five rows of the dataset\n",
        "print(\"First five rows of the dataset:\")\n",
        "print(df.head())\n",
        "\n",
        "# Output the total number of rows and columns\n",
        "print(\"\\nTotal number of rows and columns:\")\n",
        "print(f\"Rows: {df.shape[0]}, Columns: {df.shape[1]}\")\n",
        "\n",
        "# Identify and list all column names and their respective data types\n",
        "print(\"\\nColumn names and data types:\")\n",
        "print(df.dtypes)\n",
        "\n",
        "# Check for missing values in each column and provide a count of them\n",
        "print(\"\\nCount of missing values in each column:\")\n",
        "print(df.isnull().sum())\n",
        "\n",
        "# Identify columns with null values and analyze how these missing values may affect the dataset\n",
        "null_columns = df.columns[df.isnull().any()]\n",
        "print(\"\\nColumns with null values and their percentage of missing values:\")\n",
        "for col in null_columns:\n",
        "    null_percentage = df[col].isnull().mean() * 100\n",
        "    print(f\"{col}: {null_percentage:.2f}%\")\n",
        "\n",
        "# Analyze unique values in categorical columns to understand possible data categories\n",
        "categorical_columns = df.select_dtypes(include=['object']).columns\n",
        "print(\"\\nUnique values in categorical columns:\")\n",
        "for col in categorical_columns:\n",
        "    print(f\"{col}: {df[col].nunique()} unique values\")\n",
        "    print(df[col].unique())\n",
        "\n",
        "# Calculate statistical measures for each numerical column\n",
        "numerical_columns = df.select_dtypes(include=['number']).columns\n",
        "\n",
        "print(\"\\nStatistical Summary for Numerical Columns:\")\n",
        "for col in numerical_columns:\n",
        "    print(f\"\\nColumn: {col}\")\n",
        "    print(f\"Mean: {df[col].mean()}\")\n",
        "    print(f\"Median: {df[col].median()}\")\n",
        "    print(f\"Mode: {df[col].mode()[0]}\")\n",
        "    print(f\"Standard Deviation: {df[col].std()}\")\n",
        "    print(f\"Variance: {df[col].var()}\")\n",
        "    print(f\"Minimum: {df[col].min()}\")\n",
        "    print(f\"Maximum: {df[col].max()}\")\n",
        "    print(f\"25th Percentile: {df[col].quantile(0.25)}\")\n",
        "    print(f\"50th Percentile (Median): {df[col].quantile(0.50)}\")\n",
        "    print(f\"75th Percentile: {df[col].quantile(0.75)}\")\n"
      ]
    }
  ]
}